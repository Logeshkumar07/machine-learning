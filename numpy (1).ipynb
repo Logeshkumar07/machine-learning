{
  "nbformat": 4,
  "nbformat_minor": 0,
  "metadata": {
    "colab": {
      "name": "numpy.ipynb",
      "provenance": []
    },
    "kernelspec": {
      "name": "python3",
      "display_name": "Python 3"
    },
    "language_info": {
      "name": "python"
    }
  },
  "cells": [
    {
      "cell_type": "code",
      "execution_count": 6,
      "metadata": {
        "colab": {
          "base_uri": "https://localhost:8080/"
        },
        "id": "hIOZ0hjMUgWq",
        "outputId": "feaaf9ac-2550-4a81-a948-8b23f13cfdea"
      },
      "outputs": [
        {
          "output_type": "stream",
          "name": "stdout",
          "text": [
            "0.0013832190000000466\n"
          ]
        }
      ],
      "source": [
        "#Data Vizualization :\n",
        "import numpy as np\n",
        "#list vs numpy time taken\n",
        "\n",
        "from time import process_time\n",
        "#importing process_time class from time\n",
        "\n",
        "python_list=[i for i in range(10000)]  #1 to 10000 in python list\n",
        "start_time=process_time() \n",
        "python_list=[i+5 for i in python_list]\n",
        "end_time=process_time()\n",
        "print(end_time - start_time)    #time calculation for list \n",
        "\n"
      ]
    },
    {
      "cell_type": "code",
      "source": [
        "np_array=np.array([i for i in range(10000)])  #we use array inbuilt function here\n",
        "start_time=process_time()\n",
        "np_array +=5\n",
        "end_time=process_time()\n",
        "print(end_time - start_time)    #time calculation for numpy   \n",
        "\n",
        "#we can see that numpy takes less time in processing.. numpy takes less time!! "
      ],
      "metadata": {
        "colab": {
          "base_uri": "https://localhost:8080/"
        },
        "id": "4CPczUTNYNtz",
        "outputId": "8f7ceff5-0787-4d77-baab-513a2d0196c5"
      },
      "execution_count": 7,
      "outputs": [
        {
          "output_type": "stream",
          "name": "stdout",
          "text": [
            "0.0001321030000003276\n"
          ]
        }
      ]
    },
    {
      "cell_type": "code",
      "source": [
        "\n",
        "#list\n",
        "l1=[1,2,3,4,5]\n",
        "print(l1)\n",
        "type(l1)\n"
      ],
      "metadata": {
        "colab": {
          "base_uri": "https://localhost:8080/"
        },
        "id": "Cv6uZQtFY7kI",
        "outputId": "bc21133e-e2b7-41a3-e829-e35641106340"
      },
      "execution_count": 8,
      "outputs": [
        {
          "output_type": "stream",
          "name": "stdout",
          "text": [
            "[1, 2, 3, 4, 5]\n"
          ]
        },
        {
          "output_type": "execute_result",
          "data": {
            "text/plain": [
              "list"
            ]
          },
          "metadata": {},
          "execution_count": 8
        }
      ]
    },
    {
      "cell_type": "code",
      "source": [
        "#numpy array\n",
        "np_array=np.array([1,2,3,4,5])\n",
        "print(np_array)\n",
        "type(np_array)"
      ],
      "metadata": {
        "colab": {
          "base_uri": "https://localhost:8080/"
        },
        "id": "aLXPrg8GZpsv",
        "outputId": "2c89a181-95e5-4733-87ef-eb0d61389635"
      },
      "execution_count": 9,
      "outputs": [
        {
          "output_type": "stream",
          "name": "stdout",
          "text": [
            "[1 2 3 4 5]\n"
          ]
        },
        {
          "output_type": "execute_result",
          "data": {
            "text/plain": [
              "numpy.ndarray"
            ]
          },
          "metadata": {},
          "execution_count": 9
        }
      ]
    },
    {
      "cell_type": "code",
      "source": [
        "#creating a 1 dim arrary\n",
        "a=np.array([1,2,3,4])\n",
        "print(a)"
      ],
      "metadata": {
        "colab": {
          "base_uri": "https://localhost:8080/"
        },
        "id": "JI_00IenZ5vk",
        "outputId": "76220e18-b3b1-44b9-d865-cc7f0ede490c"
      },
      "execution_count": 10,
      "outputs": [
        {
          "output_type": "stream",
          "name": "stdout",
          "text": [
            "[1 2 3 4]\n"
          ]
        }
      ]
    },
    {
      "cell_type": "code",
      "source": [
        "#creating 2 dim array\n",
        "b=np.array([(1,2,3,4),(5,6,7,8)])\n",
        "print(b)\n",
        "print(\"\\n\")\n",
        "b.shape  \n",
        "#shows dimension of the array"
      ],
      "metadata": {
        "colab": {
          "base_uri": "https://localhost:8080/"
        },
        "id": "AYmw4GBDaEYR",
        "outputId": "e0cd0411-d81a-4fc3-9e8c-bb0087ff4e53"
      },
      "execution_count": 19,
      "outputs": [
        {
          "output_type": "stream",
          "name": "stdout",
          "text": [
            "[[1 2 3 4]\n",
            " [5 6 7 8]]\n",
            "\n",
            "\n"
          ]
        },
        {
          "output_type": "execute_result",
          "data": {
            "text/plain": [
              "(2, 4)"
            ]
          },
          "metadata": {},
          "execution_count": 19
        }
      ]
    },
    {
      "cell_type": "code",
      "source": [
        "\n",
        "c=np.array([(1,2,3,4),(5,6,7,8)],dtype=float) #numpy array with float\n",
        "print(c)"
      ],
      "metadata": {
        "colab": {
          "base_uri": "https://localhost:8080/"
        },
        "id": "PXypDUKXbZxi",
        "outputId": "54968308-8808-4bcd-e2a1-d32bf6724208"
      },
      "execution_count": 20,
      "outputs": [
        {
          "output_type": "stream",
          "name": "stdout",
          "text": [
            "[[1. 2. 3. 4.]\n",
            " [5. 6. 7. 8.]]\n"
          ]
        }
      ]
    }
  ]
}