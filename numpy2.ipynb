{
  "nbformat": 4,
  "nbformat_minor": 0,
  "metadata": {
    "colab": {
      "name": "numpy2.ipynb",
      "provenance": []
    },
    "kernelspec": {
      "name": "python3",
      "display_name": "Python 3"
    },
    "language_info": {
      "name": "python"
    }
  },
  "cells": [
    {
      "cell_type": "code",
      "execution_count": 2,
      "metadata": {
        "colab": {
          "base_uri": "https://localhost:8080/"
        },
        "id": "WGIFQtcABbQO",
        "outputId": "333eea05-3a57-48ed-e53d-9da57bcbcebc"
      },
      "outputs": [
        {
          "output_type": "stream",
          "name": "stdout",
          "text": [
            "[[0.75404864]\n",
            " [0.70631832]\n",
            " [0.87374658]\n",
            " [0.2797514 ]]\n"
          ]
        }
      ],
      "source": [
        "#create a numpy array with random values  #creating dataset randomly\n",
        "import numpy as np\n",
        "b=np.random.random((4,1))  #random random gives values between o to 1\n",
        "print(b)\n"
      ]
    },
    {
      "cell_type": "code",
      "source": [
        "d=np.linspace(10,30,5) #upper bound included\n",
        "print(d)"
      ],
      "metadata": {
        "colab": {
          "base_uri": "https://localhost:8080/"
        },
        "id": "8RmythcBCVnJ",
        "outputId": "24776043-e798-4692-abc6-24dc78a7352b"
      },
      "execution_count": 4,
      "outputs": [
        {
          "output_type": "stream",
          "name": "stdout",
          "text": [
            "[10. 15. 20. 25. 30.]\n"
          ]
        }
      ]
    },
    {
      "cell_type": "code",
      "source": [
        "e=np.arange(10,30,5) #upper bound not included\n",
        "print(e)"
      ],
      "metadata": {
        "colab": {
          "base_uri": "https://localhost:8080/"
        },
        "id": "Jd0GOhz2CibW",
        "outputId": "937a5535-11d0-412f-d2e3-5f50caae8f22"
      },
      "execution_count": 6,
      "outputs": [
        {
          "output_type": "stream",
          "name": "stdout",
          "text": [
            "[10 15 20 25]\n"
          ]
        }
      ]
    },
    {
      "cell_type": "code",
      "source": [
        "#convert a list to a numpy array\n",
        "list1=[10,20,30,30,50]\n",
        "np_array=np.array(list1)\n",
        "print(np_array)\n",
        "type(np_array)"
      ],
      "metadata": {
        "colab": {
          "base_uri": "https://localhost:8080/"
        },
        "id": "P2sKmrk8Cw-5",
        "outputId": "2adcb468-13e8-4956-e70a-4f642b32195d"
      },
      "execution_count": 7,
      "outputs": [
        {
          "output_type": "stream",
          "name": "stdout",
          "text": [
            "[10 20 30 30 50]\n"
          ]
        },
        {
          "output_type": "execute_result",
          "data": {
            "text/plain": [
              "numpy.ndarray"
            ]
          },
          "metadata": {},
          "execution_count": 7
        }
      ]
    },
    {
      "cell_type": "code",
      "source": [
        "#analysing a numpy array\n",
        "c=np.random.randint(10,20,(5,5))   #creating random values between given nos 10 and 20\n",
        "print(c)                          "
      ],
      "metadata": {
        "colab": {
          "base_uri": "https://localhost:8080/"
        },
        "id": "Tq6zhr7LEBEE",
        "outputId": "5e39aed8-078c-40ce-d5af-31de920b115b"
      },
      "execution_count": 8,
      "outputs": [
        {
          "output_type": "stream",
          "name": "stdout",
          "text": [
            "[[14 14 11 13 12]\n",
            " [15 12 11 18 16]\n",
            " [14 13 12 12 13]\n",
            " [17 14 10 13 19]\n",
            " [14 19 17 18 18]]\n"
          ]
        }
      ]
    },
    {
      "cell_type": "code",
      "source": [
        "#list concatenation\n",
        "l1=[1,2,3,4]\n",
        "l2=['a','b','c']\n",
        "print(l1+l2)"
      ],
      "metadata": {
        "colab": {
          "base_uri": "https://localhost:8080/"
        },
        "id": "zFU9XTzYEot3",
        "outputId": "e22f399f-4b3d-48c2-fc61-bb017ed49994"
      },
      "execution_count": 10,
      "outputs": [
        {
          "output_type": "stream",
          "name": "stdout",
          "text": [
            "[1, 2, 3, 4, 'a', 'b', 'c']\n"
          ]
        }
      ]
    },
    {
      "cell_type": "code",
      "source": [
        "#matrix calculation using numpy\n",
        "a=np.random.randint(0,10,(3,3))\n",
        "b=np.random.randint(10,20,(3,3))\n",
        "print(a)\n",
        "print(b)\n",
        "print(a+b)\n",
        "print(a-b)\n",
        "print(a/b)\n",
        "print(a*b)"
      ],
      "metadata": {
        "colab": {
          "base_uri": "https://localhost:8080/"
        },
        "id": "3CcjXglhE6Y1",
        "outputId": "469b5196-13db-401c-abef-62af7836f15c"
      },
      "execution_count": 15,
      "outputs": [
        {
          "output_type": "stream",
          "name": "stdout",
          "text": [
            "[[5 7 9]\n",
            " [0 2 8]\n",
            " [0 7 4]]\n",
            "[[10 18 11]\n",
            " [16 17 17]\n",
            " [18 13 15]]\n",
            "[[15 25 20]\n",
            " [16 19 25]\n",
            " [18 20 19]]\n",
            "[[ -5 -11  -2]\n",
            " [-16 -15  -9]\n",
            " [-18  -6 -11]]\n",
            "[[0.5        0.38888889 0.81818182]\n",
            " [0.         0.11764706 0.47058824]\n",
            " [0.         0.53846154 0.26666667]]\n",
            "[[ 50 126  99]\n",
            " [  0  34 136]\n",
            " [  0  91  60]]\n"
          ]
        }
      ]
    },
    {
      "cell_type": "code",
      "source": [
        "#another way to do matrix calculation in numpy\n",
        "print(np.add(a,b))\n",
        "print(np.subtract(a,b))\n",
        "print(np.multiply(a,b))\n",
        "print(np.divide(a,b))"
      ],
      "metadata": {
        "colab": {
          "base_uri": "https://localhost:8080/"
        },
        "id": "Rf-joEx3GAto",
        "outputId": "1cabf811-305d-41f1-a48e-28cf7f3fb05d"
      },
      "execution_count": 16,
      "outputs": [
        {
          "output_type": "stream",
          "name": "stdout",
          "text": [
            "[[15 25 20]\n",
            " [16 19 25]\n",
            " [18 20 19]]\n",
            "[[ -5 -11  -2]\n",
            " [-16 -15  -9]\n",
            " [-18  -6 -11]]\n",
            "[[ 50 126  99]\n",
            " [  0  34 136]\n",
            " [  0  91  60]]\n",
            "[[0.5        0.38888889 0.81818182]\n",
            " [0.         0.11764706 0.47058824]\n",
            " [0.         0.53846154 0.26666667]]\n"
          ]
        }
      ]
    },
    {
      "cell_type": "code",
      "source": [
        "#transpose of matric using numpy \n",
        "array=np.random.randint(0,10,(2,3))\n",
        "print(array)\n",
        "print(array.shape)\n",
        "print(\"\\n\")\n",
        "trans=np.transpose(array)\n",
        "print(trans)\n",
        "print(trans.shape)  #2,3 matix chaned to 3,2 matrix rows and colums transposed"
      ],
      "metadata": {
        "colab": {
          "base_uri": "https://localhost:8080/"
        },
        "id": "nHaED0A2GgPp",
        "outputId": "c7bd586a-cf7c-4db1-ee6e-6e341d4f6292"
      },
      "execution_count": 20,
      "outputs": [
        {
          "output_type": "stream",
          "name": "stdout",
          "text": [
            "[[2 6 6]\n",
            " [2 1 9]]\n",
            "(2, 3)\n",
            "\n",
            "\n",
            "[[2 2]\n",
            " [6 1]\n",
            " [6 9]]\n",
            "(3, 2)\n"
          ]
        }
      ]
    },
    {
      "cell_type": "code",
      "source": [
        "#another method to transpose matrix\n",
        "trans=array.T\n",
        "print(trans)"
      ],
      "metadata": {
        "colab": {
          "base_uri": "https://localhost:8080/"
        },
        "id": "ZdQI_ZHdG-N5",
        "outputId": "4d272aa2-b47f-4add-8f4d-e95c6bd39f00"
      },
      "execution_count": 21,
      "outputs": [
        {
          "output_type": "stream",
          "name": "stdout",
          "text": [
            "[[2 2]\n",
            " [6 1]\n",
            " [6 9]]\n"
          ]
        }
      ]
    },
    {
      "cell_type": "code",
      "source": [
        "#reshapping a new array\n",
        "a=np.random.randint(0,10,(2,3))\n",
        "print(a)\n",
        "print(a.shape)\n",
        "#reshaping the a array\n",
        "print(a.reshape(3,2))"
      ],
      "metadata": {
        "colab": {
          "base_uri": "https://localhost:8080/"
        },
        "id": "ntm-hWN4HRaT",
        "outputId": "9432a92e-510d-445f-fc58-b20109d03b7e"
      },
      "execution_count": 27,
      "outputs": [
        {
          "output_type": "stream",
          "name": "stdout",
          "text": [
            "[[5 3 3]\n",
            " [4 7 3]]\n",
            "(2, 3)\n",
            "[[5 3]\n",
            " [3 4]\n",
            " [7 3]]\n"
          ]
        }
      ]
    },
    {
      "cell_type": "code",
      "source": [
        "#reshaping a array by assigning it to b\n",
        "b=a.reshape(3,2)\n",
        "print(b)\n",
        "print(b.shape)"
      ],
      "metadata": {
        "colab": {
          "base_uri": "https://localhost:8080/"
        },
        "id": "-WaII46IHbee",
        "outputId": "b907c9ea-a420-431d-bcd2-82f70c8a755d"
      },
      "execution_count": 26,
      "outputs": [
        {
          "output_type": "stream",
          "name": "stdout",
          "text": [
            "[[1 5]\n",
            " [8 8]\n",
            " [7 4]]\n",
            "(3, 2)\n"
          ]
        }
      ]
    }
  ]
}