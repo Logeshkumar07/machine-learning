{
  "nbformat": 4,
  "nbformat_minor": 0,
  "metadata": {
    "colab": {
      "name": "dictionary.ipynb",
      "provenance": []
    },
    "kernelspec": {
      "name": "python3",
      "display_name": "Python 3"
    },
    "language_info": {
      "name": "python"
    }
  },
  "cells": [
    {
      "cell_type": "code",
      "execution_count": 2,
      "metadata": {
        "colab": {
          "base_uri": "https://localhost:8080/"
        },
        "id": "FHZL2WWUYWYj",
        "outputId": "8187e0ed-118c-4730-e36d-034a5c0215b7"
      },
      "outputs": [
        {
          "output_type": "stream",
          "name": "stdout",
          "text": [
            "{'logesh': 32, 'rocky': 45}\n"
          ]
        }
      ],
      "source": [
        "#dictionary in python\n",
        "d={}\n",
        "d[\"logesh\"]=32\n",
        "d[\"rocky\"]=45\n",
        "print(d)"
      ]
    },
    {
      "cell_type": "code",
      "source": [
        "def l(d):\n",
        "  for i in range(1,21):\n",
        "    d[i]=i**2\n",
        "  return d\n",
        "d={}\n",
        "l(d)"
      ],
      "metadata": {
        "colab": {
          "base_uri": "https://localhost:8080/"
        },
        "id": "NO5zC0eyY5I2",
        "outputId": "44571d23-fd9b-4077-d0a1-648046cb6a6e"
      },
      "execution_count": 8,
      "outputs": [
        {
          "output_type": "execute_result",
          "data": {
            "text/plain": [
              "{1: 1,\n",
              " 2: 4,\n",
              " 3: 9,\n",
              " 4: 16,\n",
              " 5: 25,\n",
              " 6: 36,\n",
              " 7: 49,\n",
              " 8: 64,\n",
              " 9: 81,\n",
              " 10: 100,\n",
              " 11: 121,\n",
              " 12: 144,\n",
              " 13: 169,\n",
              " 14: 196,\n",
              " 15: 225,\n",
              " 16: 256,\n",
              " 17: 289,\n",
              " 18: 324,\n",
              " 19: 361,\n",
              " 20: 400}"
            ]
          },
          "metadata": {},
          "execution_count": 8
        }
      ]
    }
  ]
}