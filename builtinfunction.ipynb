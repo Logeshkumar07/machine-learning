{
  "nbformat": 4,
  "nbformat_minor": 0,
  "metadata": {
    "colab": {
      "name": "builtinfunction.ipynb",
      "provenance": []
    },
    "kernelspec": {
      "name": "python3",
      "display_name": "Python 3"
    },
    "language_info": {
      "name": "python"
    }
  },
  "cells": [
    {
      "cell_type": "code",
      "execution_count": 2,
      "metadata": {
        "colab": {
          "base_uri": "https://localhost:8080/"
        },
        "id": "j2yKSmBvMwxk",
        "outputId": "f3437043-794e-45da-f461-3f84e647fc36"
      },
      "outputs": [
        {
          "output_type": "stream",
          "name": "stdout",
          "text": [
            "0\n",
            "1\n",
            "2\n",
            "3\n",
            "4\n",
            "5\n",
            "6\n",
            "7\n",
            "8\n",
            "9\n"
          ]
        }
      ],
      "source": [
        "i=0\n",
        "while i<10:\n",
        "  print(i)\n",
        "  i+=1\n",
        "  "
      ]
    },
    {
      "cell_type": "code",
      "source": [
        "#built in functions\n",
        "n=-65\n",
        "print(abs(n)) #absolute value of a number"
      ],
      "metadata": {
        "colab": {
          "base_uri": "https://localhost:8080/"
        },
        "id": "BHuD2Lr7VJkk",
        "outputId": "8960fdfa-bde1-4deb-bf3a-5220b0169c25"
      },
      "execution_count": 6,
      "outputs": [
        {
          "output_type": "stream",
          "name": "stdout",
          "text": [
            "65\n"
          ]
        }
      ]
    },
    {
      "cell_type": "code",
      "source": [
        "#length of string\n",
        "n=\"211212\"\n",
        "print(len(n))"
      ],
      "metadata": {
        "colab": {
          "base_uri": "https://localhost:8080/"
        },
        "id": "9XjQP8oaXJJg",
        "outputId": "2784b4ca-c9d2-4633-d6d6-814a11fc788e"
      },
      "execution_count": 8,
      "outputs": [
        {
          "output_type": "stream",
          "name": "stdout",
          "text": [
            "6\n"
          ]
        }
      ]
    },
    {
      "cell_type": "code",
      "source": [
        "#power \n",
        "n=5\n",
        "print(pow(n,3))"
      ],
      "metadata": {
        "colab": {
          "base_uri": "https://localhost:8080/"
        },
        "id": "jcLtSXGWXitu",
        "outputId": "aa8dca51-8499-4451-8da4-70488f5ea4c5"
      },
      "execution_count": 9,
      "outputs": [
        {
          "output_type": "stream",
          "name": "stdout",
          "text": [
            "125\n"
          ]
        }
      ]
    },
    {
      "cell_type": "code",
      "source": [
        "#power another method\n",
        "x=pow(3,4,10) #(3*3*3*3)%5  // #3^4 % 5\n",
        "y=pow(3,4) #3^4\n",
        "print(x)\n",
        "print(y)"
      ],
      "metadata": {
        "colab": {
          "base_uri": "https://localhost:8080/"
        },
        "id": "9Mk-OjA0XtJY",
        "outputId": "5977cfb6-eafe-455a-9a97-0ca72a2d1074"
      },
      "execution_count": 12,
      "outputs": [
        {
          "output_type": "stream",
          "name": "stdout",
          "text": [
            "1\n",
            "81\n"
          ]
        }
      ]
    },
    {
      "cell_type": "code",
      "source": [
        "#help to know about keyword ,help in python\n",
        "help()"
      ],
      "metadata": {
        "colab": {
          "base_uri": "https://localhost:8080/"
        },
        "id": "sJnjb9VyYzAa",
        "outputId": "8a1c45c6-0fa4-4f0d-ae25-4697a9fa87fe"
      },
      "execution_count": 13,
      "outputs": [
        {
          "name": "stdout",
          "output_type": "stream",
          "text": [
            "\n",
            "Welcome to Python 3.7's help utility!\n",
            "\n",
            "If this is your first time using Python, you should definitely check out\n",
            "the tutorial on the Internet at https://docs.python.org/3.7/tutorial/.\n",
            "\n",
            "Enter the name of any module, keyword, or topic to get help on writing\n",
            "Python programs and using Python modules.  To quit this help utility and\n",
            "return to the interpreter, just type \"quit\".\n",
            "\n",
            "To get a list of available modules, keywords, symbols, or topics, type\n",
            "\"modules\", \"keywords\", \"symbols\", or \"topics\".  Each module also comes\n",
            "with a one-line summary of what it does; to list the modules whose name\n",
            "or summary contain a given string such as \"spam\", type \"modules spam\".\n",
            "\n",
            "help> pow\n",
            "Help on built-in function pow in module builtins:\n",
            "\n",
            "pow(x, y, z=None, /)\n",
            "    Equivalent to x**y (with two arguments) or x**y % z (with three arguments)\n",
            "    \n",
            "    Some types, such as ints, are able to use a more efficient algorithm when\n",
            "    invoked using the three argument form.\n",
            "\n",
            "\n",
            "You are now leaving help and returning to the Python interpreter.\n",
            "If you want to ask for help on a particular object directly from the\n",
            "interpreter, you can type \"help(object)\".  Executing \"help('string')\"\n",
            "has the same effect as typing a particular string at the help> prompt.\n",
            "help> exit\n"
          ]
        }
      ]
    },
    {
      "cell_type": "code",
      "source": [
        "class Person: #dir function #shows what and all in the directory\n",
        "  name=\"logesh\"\n",
        "  age='20'\n",
        "  country=\"India\"\n",
        "  education=\"PEC\"\n",
        "print(dir(Person))"
      ],
      "metadata": {
        "colab": {
          "base_uri": "https://localhost:8080/"
        },
        "id": "oVJb1NluZMTN",
        "outputId": "4cfd0892-be0d-4c31-8c96-2ddc9987983f"
      },
      "execution_count": 15,
      "outputs": [
        {
          "output_type": "stream",
          "name": "stdout",
          "text": [
            "['__class__', '__delattr__', '__dict__', '__dir__', '__doc__', '__eq__', '__format__', '__ge__', '__getattribute__', '__gt__', '__hash__', '__init__', '__init_subclass__', '__le__', '__lt__', '__module__', '__ne__', '__new__', '__reduce__', '__reduce_ex__', '__repr__', '__setattr__', '__sizeof__', '__str__', '__subclasshook__', '__weakref__', 'age', 'country', 'education', 'name']\n"
          ]
        }
      ]
    },
    {
      "cell_type": "code",
      "source": [
        "#sorting in tuple,set and list\n",
        "t=(\"h\",\"z\",\"x\",\"w\",\"t\",\"a\")\n",
        "l=[1,23,5,7,2,5,9,2,4]\n",
        "s={\"love\",\"apple\",\"baby\",\"cat\"}\n",
        "print(sorted(t,reverse=True))  #sorting in reverse \n",
        "print(sorted(l))              #sorting\n",
        "print(sorted(s))              #sorting"
      ],
      "metadata": {
        "colab": {
          "base_uri": "https://localhost:8080/"
        },
        "id": "T9r8Y0-qamDy",
        "outputId": "6c2466f9-7e82-46c4-9dea-eaf6a7b3a73e"
      },
      "execution_count": 19,
      "outputs": [
        {
          "output_type": "stream",
          "name": "stdout",
          "text": [
            "['z', 'x', 'w', 't', 'h', 'a']\n",
            "[1, 2, 2, 4, 5, 5, 7, 9, 23]\n",
            "['apple', 'baby', 'cat', 'love']\n"
          ]
        }
      ]
    },
    {
      "cell_type": "code",
      "source": [
        "#maximum function\n",
        "name=('logesh','kumar','zass') #max in word it shows the largest alphabetical order ex: apple and cat , cat will be maximum\n",
        "print(max(name))\n",
        "n=(12,123,2392) #in integer it print maximum value\n",
        "print(max(n))"
      ],
      "metadata": {
        "colab": {
          "base_uri": "https://localhost:8080/"
        },
        "id": "i61Xaebtbzu8",
        "outputId": "b52a7792-6c0e-4244-f38f-16309c5df118"
      },
      "execution_count": 21,
      "outputs": [
        {
          "output_type": "stream",
          "name": "stdout",
          "text": [
            "zass\n",
            "2392\n"
          ]
        }
      ]
    },
    {
      "cell_type": "code",
      "source": [
        "#round off function\n",
        "n=23.45678\n",
        "print(round(n)) \n",
        "print(round(n,2))  #round of to two decimals"
      ],
      "metadata": {
        "colab": {
          "base_uri": "https://localhost:8080/"
        },
        "id": "OMwTccfMcqBX",
        "outputId": "2bd25864-4e1b-4eda-c3ac-9d8510d28693"
      },
      "execution_count": 27,
      "outputs": [
        {
          "output_type": "stream",
          "name": "stdout",
          "text": [
            "23\n",
            "23.46\n"
          ]
        }
      ]
    },
    {
      "cell_type": "code",
      "source": [
        "#len function\n",
        "animal=['tiger','lion','elephant','wolf','rhino']\n",
        "print(len(animal)) #len of list\n",
        "print(len(animal[2])) #len of string elephant\n",
        "string=\"i am invinsible\"\n",
        "print(len(string))"
      ],
      "metadata": {
        "colab": {
          "base_uri": "https://localhost:8080/"
        },
        "id": "3WRPq1bseWk9",
        "outputId": "bf885ab3-2e00-4e7b-a702-fb9d855c5829"
      },
      "execution_count": 32,
      "outputs": [
        {
          "output_type": "stream",
          "name": "stdout",
          "text": [
            "5\n",
            "8\n",
            "15\n"
          ]
        }
      ]
    },
    {
      "cell_type": "code",
      "source": [
        "#sum function\n",
        "a=(1,2,3,4)\n",
        "print(sum(a))  #1+2+3+4\n",
        "print(sum(a,7))  #sum(a)+7 that is 1+2+3+4+7\n",
        "a=[1,23,45]   #sum in list\n",
        "print(sum(a))"
      ],
      "metadata": {
        "colab": {
          "base_uri": "https://localhost:8080/"
        },
        "id": "_DZjjavCfRqR",
        "outputId": "552b2205-e49d-407e-c5d6-4ce706b76b76"
      },
      "execution_count": 36,
      "outputs": [
        {
          "output_type": "stream",
          "name": "stdout",
          "text": [
            "10\n",
            "17\n",
            "69\n"
          ]
        }
      ]
    },
    {
      "cell_type": "code",
      "source": [
        "#help function\n",
        "help(print)"
      ],
      "metadata": {
        "colab": {
          "base_uri": "https://localhost:8080/"
        },
        "id": "nRyykxDVgzQe",
        "outputId": "9f97e2ab-ac22-4186-ae30-e8305070616b"
      },
      "execution_count": 37,
      "outputs": [
        {
          "output_type": "stream",
          "name": "stdout",
          "text": [
            "Help on built-in function print in module builtins:\n",
            "\n",
            "print(...)\n",
            "    print(value, ..., sep=' ', end='\\n', file=sys.stdout, flush=False)\n",
            "    \n",
            "    Prints the values to a stream, or to sys.stdout by default.\n",
            "    Optional keyword arguments:\n",
            "    file:  a file-like object (stream); defaults to the current sys.stdout.\n",
            "    sep:   string inserted between values, default a space.\n",
            "    end:   string appended after the last value, default a newline.\n",
            "    flush: whether to forcibly flush the stream.\n",
            "\n"
          ]
        }
      ]
    }
  ]
}