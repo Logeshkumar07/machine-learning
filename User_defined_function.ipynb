{
  "nbformat": 4,
  "nbformat_minor": 0,
  "metadata": {
    "colab": {
      "name": "User-defined_function.ipynb",
      "provenance": []
    },
    "kernelspec": {
      "name": "python3",
      "display_name": "Python 3"
    },
    "language_info": {
      "name": "python"
    }
  },
  "cells": [
    {
      "cell_type": "code",
      "execution_count": 3,
      "metadata": {
        "colab": {
          "base_uri": "https://localhost:8080/"
        },
        "id": "cWYFEgJWiCpL",
        "outputId": "58d8c590-15b7-4ca4-db2d-8c6ddcb37971"
      },
      "outputs": [
        {
          "output_type": "stream",
          "name": "stdout",
          "text": [
            "81\n",
            "2\n"
          ]
        }
      ],
      "source": [
        "def square(num): \n",
        "  return num**2\n",
        "obj=square(9) #using created function\n",
        "print(obj)  \n",
        "\n",
        "def r(n1,n2):\n",
        "  return n1%n2    #user defined function for remainder \n",
        "a=r(10,8)\n",
        "print(a)\n"
      ]
    },
    {
      "cell_type": "code",
      "source": [
        "#sum of n numbers using user defined function\n",
        "def sum(n):\n",
        "  s=0\n",
        "  for i in range(n):\n",
        "    s=s+i\n",
        "  print(s)\n",
        "a=int(input(\"enter the range:\"))\n",
        "sum(a)"
      ],
      "metadata": {
        "colab": {
          "base_uri": "https://localhost:8080/"
        },
        "id": "mm39ry8SjrrH",
        "outputId": "4bf20d95-a240-4464-aa81-a4d8743a2986"
      },
      "execution_count": 7,
      "outputs": [
        {
          "output_type": "stream",
          "name": "stdout",
          "text": [
            "enter the range:5\n",
            "10\n"
          ]
        }
      ]
    },
    {
      "cell_type": "code",
      "source": [
        "#pass by reference\n",
        "def square(list):\n",
        "  #this function will find the square of items in list\n",
        "  square=[]\n",
        "  for i in list:\n",
        "    square.append(i**2)\n",
        "  return square\n",
        "#calling the defined function\n",
        "list=[1,3,5]\n",
        "result=square(list)  #the list is refering list in the function so the value changes\n",
        "print(result)  "
      ],
      "metadata": {
        "colab": {
          "base_uri": "https://localhost:8080/"
        },
        "id": "QwmmT316iyEc",
        "outputId": "796b1bcb-f920-4bab-f9c7-09192a4c79e7"
      },
      "execution_count": 10,
      "outputs": [
        {
          "output_type": "stream",
          "name": "stdout",
          "text": [
            "[1, 9, 25]\n"
          ]
        }
      ]
    },
    {
      "cell_type": "code",
      "source": [
        "def power2(l):\n",
        "  power2=[]\n",
        "  for i in l:\n",
        "    power2.append(i**2)\n",
        "  return power2\n",
        "l=[2,3,6]\n",
        "r=power2(l)\n",
        "print(r)"
      ],
      "metadata": {
        "colab": {
          "base_uri": "https://localhost:8080/"
        },
        "id": "CmM-pcjKzeP6",
        "outputId": "b6837fdc-5898-46f3-a0db-0f2ba2195cf7"
      },
      "execution_count": 22,
      "outputs": [
        {
          "output_type": "stream",
          "name": "stdout",
          "text": [
            "[4, 9, 36]\n"
          ]
        }
      ]
    },
    {
      "cell_type": "code",
      "source": [
        "def a(l,n):\n",
        "  return l*2+n*2\n",
        "l=[1,2,3]\n",
        "n=[2,3,4]\n",
        "print(a(l,n))"
      ],
      "metadata": {
        "colab": {
          "base_uri": "https://localhost:8080/"
        },
        "id": "XSW4JNSE2LF3",
        "outputId": "d9c74509-c61c-4f45-9ac6-5c23003044e7"
      },
      "execution_count": 28,
      "outputs": [
        {
          "output_type": "stream",
          "name": "stdout",
          "text": [
            "[1, 2, 3, 1, 2, 3, 2, 3, 4, 2, 3, 4]\n"
          ]
        }
      ]
    },
    {
      "cell_type": "code",
      "source": [
        "def power(a,b):\n",
        "  c=pow(a,b)\n",
        "  return c\n",
        "a=3\n",
        "b=4\n",
        "print(pow(a,b)) "
      ],
      "metadata": {
        "colab": {
          "base_uri": "https://localhost:8080/"
        },
        "id": "OKgrPaLB23Wv",
        "outputId": "c94c701a-3bb1-4024-c889-70a2a14fbaea"
      },
      "execution_count": 30,
      "outputs": [
        {
          "output_type": "stream",
          "name": "stdout",
          "text": [
            "81\n"
          ]
        }
      ]
    },
    {
      "cell_type": "code",
      "source": [
        ""
      ],
      "metadata": {
        "id": "q734e96H3Aqd"
      },
      "execution_count": null,
      "outputs": []
    }
  ]
}