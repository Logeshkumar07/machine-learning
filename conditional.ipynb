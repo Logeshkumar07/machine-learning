{
  "nbformat": 4,
  "nbformat_minor": 0,
  "metadata": {
    "colab": {
      "name": "Untitled4.ipynb",
      "provenance": []
    },
    "kernelspec": {
      "name": "python3",
      "display_name": "Python 3"
    },
    "language_info": {
      "name": "python"
    }
  },
  "cells": [
    {
      "cell_type": "code",
      "execution_count": null,
      "metadata": {
        "id": "M_vzagPf85DY"
      },
      "outputs": [],
      "source": [
        ""
      ]
    },
    {
      "cell_type": "code",
      "source": [
        "age=int(input(\"Enter ur age:\")) #sample code for checking eligibility to vote\n",
        "if age>=0 and age<18 :\n",
        "  print(\"not eligible to vote.\")\n",
        "if age>=18 and age<115:\n",
        "  print(\"eligible to vote.\")"
      ],
      "metadata": {
        "colab": {
          "base_uri": "https://localhost:8080/"
        },
        "id": "rO7MCdSp8-ij",
        "outputId": "1a0bf649-7f4c-442d-a4ff-f59248ce5b1a"
      },
      "execution_count": 5,
      "outputs": [
        {
          "output_type": "stream",
          "name": "stdout",
          "text": [
            "Enter ur age:18\n",
            "eligible to vote.\n"
          ]
        }
      ]
    },
    {
      "cell_type": "code",
      "source": [
        "num=[3,5,23,6,5,1,2,9,8]\n",
        "sum=0\n",
        "for i in range(0,8):\n",
        "  sum=sum+(num[i]*num[i]) #sum of square of number\n",
        "print(sum) "
      ],
      "metadata": {
        "colab": {
          "base_uri": "https://localhost:8080/"
        },
        "id": "E7T6zY5c9FLy",
        "outputId": "be8aadf3-9eb5-42ec-8b80-980de2b78cdc"
      },
      "execution_count": 8,
      "outputs": [
        {
          "output_type": "stream",
          "name": "stdout",
          "text": [
            "710\n"
          ]
        }
      ]
    },
    {
      "cell_type": "code",
      "source": [
        "num=[] #code for getting input for list\n",
        "n=int(input(\"Enter no. of list items:\"))\n",
        "for i in range(0,n):\n",
        "  no=int(input(\"Enter a number:\"))\n",
        "  num.append(no)\n",
        "print(num)"
      ],
      "metadata": {
        "colab": {
          "base_uri": "https://localhost:8080/"
        },
        "id": "WA_QE1WjA3xm",
        "outputId": "4cf59c27-fa68-44bb-c78e-b73227a59732"
      },
      "execution_count": 16,
      "outputs": [
        {
          "output_type": "stream",
          "name": "stdout",
          "text": [
            "Enter no. of list items:4\n",
            "Enter a number:23\n",
            "Enter a number:3\n",
            "Enter a number:5\n",
            "Enter a number:6\n",
            "[23, 3, 5, 6]\n"
          ]
        }
      ]
    },
    {
      "cell_type": "code",
      "source": [
        "s=\"Logesh\" #string iteration\n",
        "for i in s:\n",
        "  print(i)"
      ],
      "metadata": {
        "colab": {
          "base_uri": "https://localhost:8080/"
        },
        "id": "gvIPFeiVCW8m",
        "outputId": "b7d0e5be-562c-4b9b-a68b-6b033322fd2d"
      },
      "execution_count": 15,
      "outputs": [
        {
          "output_type": "stream",
          "name": "stdout",
          "text": [
            "L\n",
            "o\n",
            "g\n",
            "e\n",
            "s\n",
            "h\n"
          ]
        }
      ]
    },
    {
      "cell_type": "code",
      "source": [
        "for i in range(1,11):\n",
        "  if i==6:\n",
        "    continue\n",
        "  else:\n",
        "    print(i,end=\" \")"
      ],
      "metadata": {
        "colab": {
          "base_uri": "https://localhost:8080/"
        },
        "id": "y42gfaADDH1j",
        "outputId": "83854ab7-fdc1-43a0-ee34-532d2fb1a44b"
      },
      "execution_count": 18,
      "outputs": [
        {
          "output_type": "stream",
          "name": "stdout",
          "text": [
            "1 2 3 4 5 7 8 9 10 "
          ]
        }
      ]
    }
  ]
}
