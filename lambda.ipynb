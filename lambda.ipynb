{
  "nbformat": 4,
  "nbformat_minor": 0,
  "metadata": {
    "colab": {
      "name": "lambda.ipynb",
      "provenance": []
    },
    "kernelspec": {
      "name": "python3",
      "display_name": "Python 3"
    },
    "language_info": {
      "name": "python"
    }
  },
  "cells": [
    {
      "cell_type": "code",
      "execution_count": 9,
      "metadata": {
        "colab": {
          "base_uri": "https://localhost:8080/"
        },
        "id": "vKVAXJn7SDdl",
        "outputId": "cc7f3b3d-02cf-4684-d14d-7a4607f5be7d"
      },
      "outputs": [
        {
          "output_type": "stream",
          "name": "stdout",
          "text": [
            "value: 50\n",
            "Value: 90\n",
            "\n",
            "\n",
            "6\n",
            "3\n"
          ]
        }
      ],
      "source": [
        "#lambda function (just one line in their syntax) many argument can be passed!!\n",
        "lambda_= lambda argument1, argument2: argument1+argument2\n",
        "print(\"value:\",lambda_(20,30))\n",
        "print(\"Value:\",lambda_(40,50))\n",
        "\n",
        "print(\"\\n\")\n",
        "#sample lambda function for multiplication\n",
        "l=lambda ar1,ar2:ar1*ar2\n",
        "print(l(2,3))\n",
        "l2=lambda a,b,c:pow(a,b,c)\n",
        "print(l2(2,3,5)) #prints 2*2*2 % 5 gives remainder 3"
      ]
    },
    {
      "cell_type": "code",
      "source": [
        ""
      ],
      "metadata": {
        "id": "BgXpn0UtTdxR"
      },
      "execution_count": null,
      "outputs": []
    }
  ]
}